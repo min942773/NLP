{
 "cells": [
  {
   "cell_type": "markdown",
   "metadata": {},
   "source": [
    "# 3. 형태학 - 시작하기\n",
    "## 1) 형태학 소개"
   ]
  },
  {
   "cell_type": "markdown",
   "metadata": {},
   "source": [
    "* 형태소 : 의미를 전달하는 언어의 기본 단위, 어간과 접사(접미사, 접두사, 삽입사 및 외접사)의 두 가지 유형이 있음\n",
    "* 어간 : 접사를 추가하지 않아도 존재 가능해 자립 형태소라고도 함.\n",
    "* 접사 : 자유로운 형태로 존재할 수 없고 항상 자립 형태소와 함께 존재해 의존 형태소라고도 함.\n",
    "* 언어의 세 가지 종류 : 고립어, 교착어, 굴절어\n",
    "* 고립어 : 단어가 단순히 자립 형태소인 언어, 특정 시제나 수 정보를 전달하지 않음\n",
    "* 교착어 : 복합어 정보를 전달하기 위해 작은 단어로 함께 결합된 것\n",
    "* 굴절어 : 단어를 단순한 단위로 세분화"
   ]
  },
  {
   "cell_type": "code",
   "execution_count": null,
   "metadata": {},
   "outputs": [],
   "source": []
  }
 ],
 "metadata": {
  "kernelspec": {
   "display_name": "Python 3",
   "language": "python",
   "name": "python3"
  },
  "language_info": {
   "codemirror_mode": {
    "name": "ipython",
    "version": 3
   },
   "file_extension": ".py",
   "mimetype": "text/x-python",
   "name": "python",
   "nbconvert_exporter": "python",
   "pygments_lexer": "ipython3",
   "version": "3.7.4"
  }
 },
 "nbformat": 4,
 "nbformat_minor": 2
}
